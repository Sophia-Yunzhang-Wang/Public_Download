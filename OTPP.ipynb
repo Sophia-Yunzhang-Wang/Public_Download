{
 "cells": [
  {
   "cell_type": "markdown",
   "id": "b050a1d5",
   "metadata": {},
   "source": [
    "## Section 1 - Multivariate Statistics"
   ]
  },
  {
   "cell_type": "code",
   "execution_count": 275,
   "id": "d3e9ea8c",
   "metadata": {},
   "outputs": [
    {
     "ename": "SyntaxError",
     "evalue": "expected ':' (1789970307.py, line 15)",
     "output_type": "error",
     "traceback": [
      "\u001b[1;36m  Cell \u001b[1;32mIn[275], line 15\u001b[1;36m\u001b[0m\n\u001b[1;33m    if correlation > c-0.005 and correlation < c+0.005\u001b[0m\n\u001b[1;37m                                                      ^\u001b[0m\n\u001b[1;31mSyntaxError\u001b[0m\u001b[1;31m:\u001b[0m expected ':'\n"
     ]
    }
   ],
   "source": [
    "import numpy as np\n",
    "import pandas as pd\n",
    "from scipy.stats.mstats import winsorize\n",
    "from scipy.stats import pearsonr\n",
    "#Generate data\n",
    "data = pd.DataFrame(columns=['v1','v2'])\n",
    "data[v1] = np.random.normal(0,1,5000)\n",
    "data[v2] = np.random.normal(0,1,5000)\n",
    "\n",
    "def impose(c):\n",
    "    x=0\n",
    "    while x<1:\n",
    "        variable_1 = winsorize(variable_1,limits=[x,x])\n",
    "        correlation = pearsonr(variable_1,variable_2)\n",
    "        if correlation > c-0.005 and correlation < c+0.005\n",
    "            return correlation\n",
    "        else x=x + 0.001\n",
    "    return x\n",
    "\n",
    "impose(0.5)\n"
   ]
  },
  {
   "cell_type": "markdown",
   "id": "de439eb6",
   "metadata": {},
   "source": [
    "## Section 2 – Investment/Total Fund is in word document"
   ]
  },
  {
   "cell_type": "markdown",
   "id": "5dc555d4",
   "metadata": {},
   "source": [
    "## Section 3 - Data"
   ]
  },
  {
   "cell_type": "code",
   "execution_count": 28,
   "id": "dcefe7fe",
   "metadata": {},
   "outputs": [],
   "source": [
    "import pandas as pd\n",
    "import numpy as np"
   ]
  },
  {
   "cell_type": "markdown",
   "id": "ee1c7704",
   "metadata": {},
   "source": [
    "### 5."
   ]
  },
  {
   "cell_type": "code",
   "execution_count": 15,
   "id": "ced7ce99",
   "metadata": {},
   "outputs": [],
   "source": [
    "df1=pd.DataFrame({'Date':['2019-12-31','2020-01-02','2020-01-03','2020-01-06'],'Close':[323.80,3257.85,3234.85,3246.28]})"
   ]
  },
  {
   "cell_type": "code",
   "execution_count": 16,
   "id": "4fd79a3f",
   "metadata": {},
   "outputs": [],
   "source": [
    "df1.set_index('Date', inplace=True)\n"
   ]
  },
  {
   "cell_type": "code",
   "execution_count": 17,
   "id": "ce92891a",
   "metadata": {},
   "outputs": [
    {
     "data": {
      "text/html": [
       "<div>\n",
       "<style scoped>\n",
       "    .dataframe tbody tr th:only-of-type {\n",
       "        vertical-align: middle;\n",
       "    }\n",
       "\n",
       "    .dataframe tbody tr th {\n",
       "        vertical-align: top;\n",
       "    }\n",
       "\n",
       "    .dataframe thead th {\n",
       "        text-align: right;\n",
       "    }\n",
       "</style>\n",
       "<table border=\"1\" class=\"dataframe\">\n",
       "  <thead>\n",
       "    <tr style=\"text-align: right;\">\n",
       "      <th></th>\n",
       "      <th>Close</th>\n",
       "    </tr>\n",
       "    <tr>\n",
       "      <th>Date</th>\n",
       "      <th></th>\n",
       "    </tr>\n",
       "  </thead>\n",
       "  <tbody>\n",
       "    <tr>\n",
       "      <th>2019-12-31</th>\n",
       "      <td>323.80</td>\n",
       "    </tr>\n",
       "    <tr>\n",
       "      <th>2020-01-02</th>\n",
       "      <td>3257.85</td>\n",
       "    </tr>\n",
       "    <tr>\n",
       "      <th>2020-01-03</th>\n",
       "      <td>3234.85</td>\n",
       "    </tr>\n",
       "    <tr>\n",
       "      <th>2020-01-06</th>\n",
       "      <td>3246.28</td>\n",
       "    </tr>\n",
       "  </tbody>\n",
       "</table>\n",
       "</div>"
      ],
      "text/plain": [
       "              Close\n",
       "Date               \n",
       "2019-12-31   323.80\n",
       "2020-01-02  3257.85\n",
       "2020-01-03  3234.85\n",
       "2020-01-06  3246.28"
      ]
     },
     "execution_count": 17,
     "metadata": {},
     "output_type": "execute_result"
    }
   ],
   "source": [
    "df1"
   ]
  },
  {
   "cell_type": "code",
   "execution_count": 5,
   "id": "191dcc4b",
   "metadata": {},
   "outputs": [],
   "source": [
    "df2=pd.DataFrame({'Date':['2019-12-31','2020-01-01','2020-01-02','2020-01-03','2020-01-06'],'Close':[1.30606,1.3002,1.2973,1.2983,1.29866]})"
   ]
  },
  {
   "cell_type": "code",
   "execution_count": 18,
   "id": "fb34efdf",
   "metadata": {},
   "outputs": [],
   "source": [
    "df2.set_index('Date', inplace=True)"
   ]
  },
  {
   "cell_type": "code",
   "execution_count": 19,
   "id": "ae6c9835",
   "metadata": {},
   "outputs": [
    {
     "data": {
      "text/html": [
       "<div>\n",
       "<style scoped>\n",
       "    .dataframe tbody tr th:only-of-type {\n",
       "        vertical-align: middle;\n",
       "    }\n",
       "\n",
       "    .dataframe tbody tr th {\n",
       "        vertical-align: top;\n",
       "    }\n",
       "\n",
       "    .dataframe thead th {\n",
       "        text-align: right;\n",
       "    }\n",
       "</style>\n",
       "<table border=\"1\" class=\"dataframe\">\n",
       "  <thead>\n",
       "    <tr style=\"text-align: right;\">\n",
       "      <th></th>\n",
       "      <th>Close</th>\n",
       "    </tr>\n",
       "    <tr>\n",
       "      <th>Date</th>\n",
       "      <th></th>\n",
       "    </tr>\n",
       "  </thead>\n",
       "  <tbody>\n",
       "    <tr>\n",
       "      <th>2019-12-31</th>\n",
       "      <td>1.30606</td>\n",
       "    </tr>\n",
       "    <tr>\n",
       "      <th>2020-01-01</th>\n",
       "      <td>1.30020</td>\n",
       "    </tr>\n",
       "    <tr>\n",
       "      <th>2020-01-02</th>\n",
       "      <td>1.29730</td>\n",
       "    </tr>\n",
       "    <tr>\n",
       "      <th>2020-01-03</th>\n",
       "      <td>1.29830</td>\n",
       "    </tr>\n",
       "    <tr>\n",
       "      <th>2020-01-06</th>\n",
       "      <td>1.29866</td>\n",
       "    </tr>\n",
       "  </tbody>\n",
       "</table>\n",
       "</div>"
      ],
      "text/plain": [
       "              Close\n",
       "Date               \n",
       "2019-12-31  1.30606\n",
       "2020-01-01  1.30020\n",
       "2020-01-02  1.29730\n",
       "2020-01-03  1.29830\n",
       "2020-01-06  1.29866"
      ]
     },
     "execution_count": 19,
     "metadata": {},
     "output_type": "execute_result"
    }
   ],
   "source": [
    "df2"
   ]
  },
  {
   "cell_type": "code",
   "execution_count": 20,
   "id": "0468e062",
   "metadata": {},
   "outputs": [],
   "source": [
    "result = pd.concat([df1, df2], axis=1, join=\"inner\")"
   ]
  },
  {
   "cell_type": "code",
   "execution_count": 21,
   "id": "a2f612b5",
   "metadata": {},
   "outputs": [
    {
     "data": {
      "text/html": [
       "<div>\n",
       "<style scoped>\n",
       "    .dataframe tbody tr th:only-of-type {\n",
       "        vertical-align: middle;\n",
       "    }\n",
       "\n",
       "    .dataframe tbody tr th {\n",
       "        vertical-align: top;\n",
       "    }\n",
       "\n",
       "    .dataframe thead th {\n",
       "        text-align: right;\n",
       "    }\n",
       "</style>\n",
       "<table border=\"1\" class=\"dataframe\">\n",
       "  <thead>\n",
       "    <tr style=\"text-align: right;\">\n",
       "      <th></th>\n",
       "      <th>Close</th>\n",
       "      <th>Close</th>\n",
       "    </tr>\n",
       "    <tr>\n",
       "      <th>Date</th>\n",
       "      <th></th>\n",
       "      <th></th>\n",
       "    </tr>\n",
       "  </thead>\n",
       "  <tbody>\n",
       "    <tr>\n",
       "      <th>2019-12-31</th>\n",
       "      <td>323.80</td>\n",
       "      <td>1.30606</td>\n",
       "    </tr>\n",
       "    <tr>\n",
       "      <th>2020-01-02</th>\n",
       "      <td>3257.85</td>\n",
       "      <td>1.29730</td>\n",
       "    </tr>\n",
       "    <tr>\n",
       "      <th>2020-01-03</th>\n",
       "      <td>3234.85</td>\n",
       "      <td>1.29830</td>\n",
       "    </tr>\n",
       "    <tr>\n",
       "      <th>2020-01-06</th>\n",
       "      <td>3246.28</td>\n",
       "      <td>1.29866</td>\n",
       "    </tr>\n",
       "  </tbody>\n",
       "</table>\n",
       "</div>"
      ],
      "text/plain": [
       "              Close    Close\n",
       "Date                        \n",
       "2019-12-31   323.80  1.30606\n",
       "2020-01-02  3257.85  1.29730\n",
       "2020-01-03  3234.85  1.29830\n",
       "2020-01-06  3246.28  1.29866"
      ]
     },
     "execution_count": 21,
     "metadata": {},
     "output_type": "execute_result"
    }
   ],
   "source": [
    "result"
   ]
  },
  {
   "cell_type": "markdown",
   "id": "8eac3fae",
   "metadata": {},
   "source": [
    "### 6."
   ]
  },
  {
   "cell_type": "code",
   "execution_count": 29,
   "id": "260c859e",
   "metadata": {},
   "outputs": [],
   "source": [
    "df6=pd.DataFrame({'Date':['2023-10-27','2023-10-30','2023-10-31','2023-11-07','2023-11-13','2023-11-10,','2023-11-06'],\n",
    "                  'Portfolio':['FICA','FICA','FICA','FICA','FICA','FICA','FICA'],\n",
    "                 'MV':[67454088,89304605,113449488,185055847,182724762,182731405,183099003],\n",
    "                 'DV01':[158800,230212,252102,404225,398461,398644,399745],\n",
    "                 'DV01 Convexity':[np.nan,np.nan,np.nan,1042,1029,1029,1032]})"
   ]
  },
  {
   "cell_type": "code",
   "execution_count": 30,
   "id": "605cc512",
   "metadata": {},
   "outputs": [
    {
     "data": {
      "text/html": [
       "<div>\n",
       "<style scoped>\n",
       "    .dataframe tbody tr th:only-of-type {\n",
       "        vertical-align: middle;\n",
       "    }\n",
       "\n",
       "    .dataframe tbody tr th {\n",
       "        vertical-align: top;\n",
       "    }\n",
       "\n",
       "    .dataframe thead th {\n",
       "        text-align: right;\n",
       "    }\n",
       "</style>\n",
       "<table border=\"1\" class=\"dataframe\">\n",
       "  <thead>\n",
       "    <tr style=\"text-align: right;\">\n",
       "      <th></th>\n",
       "      <th>Date</th>\n",
       "      <th>Portfolio</th>\n",
       "      <th>MV</th>\n",
       "      <th>DV01</th>\n",
       "      <th>DV01 Convexity</th>\n",
       "    </tr>\n",
       "  </thead>\n",
       "  <tbody>\n",
       "    <tr>\n",
       "      <th>0</th>\n",
       "      <td>2023-10-27</td>\n",
       "      <td>FICA</td>\n",
       "      <td>67454088</td>\n",
       "      <td>158800</td>\n",
       "      <td>NaN</td>\n",
       "    </tr>\n",
       "    <tr>\n",
       "      <th>1</th>\n",
       "      <td>2023-10-30</td>\n",
       "      <td>FICA</td>\n",
       "      <td>89304605</td>\n",
       "      <td>230212</td>\n",
       "      <td>NaN</td>\n",
       "    </tr>\n",
       "    <tr>\n",
       "      <th>2</th>\n",
       "      <td>2023-10-31</td>\n",
       "      <td>FICA</td>\n",
       "      <td>113449488</td>\n",
       "      <td>252102</td>\n",
       "      <td>NaN</td>\n",
       "    </tr>\n",
       "    <tr>\n",
       "      <th>3</th>\n",
       "      <td>2023-11-07</td>\n",
       "      <td>FICA</td>\n",
       "      <td>185055847</td>\n",
       "      <td>404225</td>\n",
       "      <td>1042.0</td>\n",
       "    </tr>\n",
       "    <tr>\n",
       "      <th>4</th>\n",
       "      <td>2023-11-13</td>\n",
       "      <td>FICA</td>\n",
       "      <td>182724762</td>\n",
       "      <td>398461</td>\n",
       "      <td>1029.0</td>\n",
       "    </tr>\n",
       "    <tr>\n",
       "      <th>5</th>\n",
       "      <td>2023-11-10,</td>\n",
       "      <td>FICA</td>\n",
       "      <td>182731405</td>\n",
       "      <td>398644</td>\n",
       "      <td>1029.0</td>\n",
       "    </tr>\n",
       "    <tr>\n",
       "      <th>6</th>\n",
       "      <td>2023-11-06</td>\n",
       "      <td>FICA</td>\n",
       "      <td>183099003</td>\n",
       "      <td>399745</td>\n",
       "      <td>1032.0</td>\n",
       "    </tr>\n",
       "  </tbody>\n",
       "</table>\n",
       "</div>"
      ],
      "text/plain": [
       "          Date Portfolio         MV    DV01  DV01 Convexity\n",
       "0   2023-10-27      FICA   67454088  158800             NaN\n",
       "1   2023-10-30      FICA   89304605  230212             NaN\n",
       "2   2023-10-31      FICA  113449488  252102             NaN\n",
       "3   2023-11-07      FICA  185055847  404225          1042.0\n",
       "4   2023-11-13      FICA  182724762  398461          1029.0\n",
       "5  2023-11-10,      FICA  182731405  398644          1029.0\n",
       "6   2023-11-06      FICA  183099003  399745          1032.0"
      ]
     },
     "execution_count": 30,
     "metadata": {},
     "output_type": "execute_result"
    }
   ],
   "source": [
    "df6"
   ]
  },
  {
   "cell_type": "code",
   "execution_count": 31,
   "id": "6a1458c5",
   "metadata": {},
   "outputs": [],
   "source": [
    "df6['DV01 Convexity']=df6['DV01 Convexity'].fillna(df6['DV01 Convexity'].mean())"
   ]
  },
  {
   "cell_type": "code",
   "execution_count": 32,
   "id": "6c5e33f2",
   "metadata": {},
   "outputs": [
    {
     "data": {
      "text/html": [
       "<div>\n",
       "<style scoped>\n",
       "    .dataframe tbody tr th:only-of-type {\n",
       "        vertical-align: middle;\n",
       "    }\n",
       "\n",
       "    .dataframe tbody tr th {\n",
       "        vertical-align: top;\n",
       "    }\n",
       "\n",
       "    .dataframe thead th {\n",
       "        text-align: right;\n",
       "    }\n",
       "</style>\n",
       "<table border=\"1\" class=\"dataframe\">\n",
       "  <thead>\n",
       "    <tr style=\"text-align: right;\">\n",
       "      <th></th>\n",
       "      <th>Date</th>\n",
       "      <th>Portfolio</th>\n",
       "      <th>MV</th>\n",
       "      <th>DV01</th>\n",
       "      <th>DV01 Convexity</th>\n",
       "    </tr>\n",
       "  </thead>\n",
       "  <tbody>\n",
       "    <tr>\n",
       "      <th>0</th>\n",
       "      <td>2023-10-27</td>\n",
       "      <td>FICA</td>\n",
       "      <td>67454088</td>\n",
       "      <td>158800</td>\n",
       "      <td>1033.0</td>\n",
       "    </tr>\n",
       "    <tr>\n",
       "      <th>1</th>\n",
       "      <td>2023-10-30</td>\n",
       "      <td>FICA</td>\n",
       "      <td>89304605</td>\n",
       "      <td>230212</td>\n",
       "      <td>1033.0</td>\n",
       "    </tr>\n",
       "    <tr>\n",
       "      <th>2</th>\n",
       "      <td>2023-10-31</td>\n",
       "      <td>FICA</td>\n",
       "      <td>113449488</td>\n",
       "      <td>252102</td>\n",
       "      <td>1033.0</td>\n",
       "    </tr>\n",
       "    <tr>\n",
       "      <th>3</th>\n",
       "      <td>2023-11-07</td>\n",
       "      <td>FICA</td>\n",
       "      <td>185055847</td>\n",
       "      <td>404225</td>\n",
       "      <td>1042.0</td>\n",
       "    </tr>\n",
       "    <tr>\n",
       "      <th>4</th>\n",
       "      <td>2023-11-13</td>\n",
       "      <td>FICA</td>\n",
       "      <td>182724762</td>\n",
       "      <td>398461</td>\n",
       "      <td>1029.0</td>\n",
       "    </tr>\n",
       "    <tr>\n",
       "      <th>5</th>\n",
       "      <td>2023-11-10,</td>\n",
       "      <td>FICA</td>\n",
       "      <td>182731405</td>\n",
       "      <td>398644</td>\n",
       "      <td>1029.0</td>\n",
       "    </tr>\n",
       "    <tr>\n",
       "      <th>6</th>\n",
       "      <td>2023-11-06</td>\n",
       "      <td>FICA</td>\n",
       "      <td>183099003</td>\n",
       "      <td>399745</td>\n",
       "      <td>1032.0</td>\n",
       "    </tr>\n",
       "  </tbody>\n",
       "</table>\n",
       "</div>"
      ],
      "text/plain": [
       "          Date Portfolio         MV    DV01  DV01 Convexity\n",
       "0   2023-10-27      FICA   67454088  158800          1033.0\n",
       "1   2023-10-30      FICA   89304605  230212          1033.0\n",
       "2   2023-10-31      FICA  113449488  252102          1033.0\n",
       "3   2023-11-07      FICA  185055847  404225          1042.0\n",
       "4   2023-11-13      FICA  182724762  398461          1029.0\n",
       "5  2023-11-10,      FICA  182731405  398644          1029.0\n",
       "6   2023-11-06      FICA  183099003  399745          1032.0"
      ]
     },
     "execution_count": 32,
     "metadata": {},
     "output_type": "execute_result"
    }
   ],
   "source": [
    "df6"
   ]
  },
  {
   "cell_type": "markdown",
   "id": "ef16be9d",
   "metadata": {},
   "source": [
    "### 7."
   ]
  },
  {
   "cell_type": "markdown",
   "id": "a7643105",
   "metadata": {},
   "source": [
    "Data normalization in database design is the process of organizing data within a database to reduce redundancy and dependency, thereby improving data integrity and minimizing anomalies during data manipulation. It involves breaking down a database into smaller, more manageable tables and establishing relationships between them.\n",
    "\n",
    "Normalization is typically done when there are issues such as data redundancy, update anomalies, and deletion anomalies, which can arise when data is not organized efficiently. After normalization process, data redundancy is minimized, and data integrity is enhanced."
   ]
  },
  {
   "cell_type": "markdown",
   "id": "c9515a25",
   "metadata": {},
   "source": [
    "For example we use below script to find duplicate records from table position_analytic to find duplicate records and perform data scrubbing to remove duplicate records:\n",
    "\n",
    "select effective_date, portflio_ID, security_alias, count(*) as DupeCount \n",
    "from position_analytic  \n",
    "group by effective_date, portflio_ID, security_alias having count(*) >1 "
   ]
  },
  {
   "cell_type": "markdown",
   "id": "0aab43ba",
   "metadata": {},
   "source": [
    "## Section 4 - Value-at-Risk"
   ]
  },
  {
   "cell_type": "markdown",
   "id": "b0e05a3b",
   "metadata": {},
   "source": [
    "### 8."
   ]
  },
  {
   "cell_type": "code",
   "execution_count": 74,
   "id": "fce93ac2",
   "metadata": {},
   "outputs": [
    {
     "name": "stderr",
     "output_type": "stream",
     "text": [
      "\r",
      "[*********************100%%**********************]  1 of 1 completed"
     ]
    },
    {
     "name": "stdout",
     "output_type": "stream",
     "text": [
      "Date\n",
      "2023-03-01    3951.389893\n",
      "2023-03-02    3981.350098\n",
      "2023-03-03    4045.639893\n",
      "2023-03-06    4048.419922\n",
      "2023-03-07    3986.370117\n",
      "Name: Close, dtype: float64\n"
     ]
    },
    {
     "name": "stderr",
     "output_type": "stream",
     "text": [
      "\n"
     ]
    }
   ],
   "source": [
    "import yfinance as yf\n",
    "\n",
    "# Define the ticker symbol for the S&P 500 index\n",
    "ticker_symbol = \"^GSPC\"\n",
    "\n",
    "# Define the start and end dates for the historical data\n",
    "start_date = \"2023-03-01\"\n",
    "end_date = \"2024-03-31\"\n",
    "\n",
    "# Download historical data\n",
    "sp500_data = yf.download(ticker_symbol, start=start_date, end=end_date)\n",
    "sp500_data = pd.DataFrame(sp500_data)['Close']\n",
    "# Print the first few rows of the data\n",
    "print(sp500_data.head())"
   ]
  },
  {
   "cell_type": "code",
   "execution_count": 45,
   "id": "b4f06598",
   "metadata": {},
   "outputs": [
    {
     "name": "stderr",
     "output_type": "stream",
     "text": [
      "\r",
      "[*********************100%%**********************]  1 of 1 completed"
     ]
    },
    {
     "name": "stdout",
     "output_type": "stream",
     "text": [
      "Date\n",
      "2023-03-01    20259.800781\n",
      "2023-03-02    20337.199219\n",
      "2023-03-03    20581.599609\n",
      "2023-03-06    20514.800781\n",
      "2023-03-07    20275.500000\n",
      "Name: Close, dtype: float64\n"
     ]
    },
    {
     "name": "stderr",
     "output_type": "stream",
     "text": [
      "\n"
     ]
    }
   ],
   "source": [
    "# Define the ticker symbol for the  S&P/TSX indices\n",
    "ticker_symbol = \"^GSPTSE\"\n",
    "\n",
    "# Define the start and end dates for the historical data\n",
    "start_date = \"2023-03-01\"\n",
    "end_date = \"2024-03-31\"\n",
    "\n",
    "# Download historical data\n",
    "tsx_data = yf.download(ticker_symbol, start=start_date, end=end_date)\n",
    "tsx_data = pd.DataFrame(tsx_data)['Close']\n",
    "# Print the first few rows of the data\n",
    "print(tsx_data.head())"
   ]
  },
  {
   "cell_type": "code",
   "execution_count": 44,
   "id": "0f32d0ea",
   "metadata": {},
   "outputs": [
    {
     "name": "stderr",
     "output_type": "stream",
     "text": [
      "\r",
      "[*********************100%%**********************]  1 of 1 completed"
     ]
    },
    {
     "name": "stdout",
     "output_type": "stream",
     "text": [
      "Date\n",
      "2023-03-01    587.869995\n",
      "2023-03-02    588.119995\n",
      "2023-03-03    595.849976\n",
      "2023-03-06    594.239990\n",
      "2023-03-07    582.010010\n",
      "Name: Close, dtype: float64\n"
     ]
    },
    {
     "name": "stderr",
     "output_type": "stream",
     "text": [
      "\n"
     ]
    }
   ],
   "source": [
    "# Define the ticker symbol for the S&P GSCI Index\n",
    "ticker_symbol = \"^SPGSCI\"\n",
    "\n",
    "# Define the start and end dates for the historical data\n",
    "start_date = \"2023-03-01\"\n",
    "end_date = \"2024-03-31\"\n",
    "\n",
    "# Download historical data\n",
    "gsci_data = yf.download(ticker_symbol, start=start_date, end=end_date)\n",
    "gsci_data = pd.DataFrame(gsci_data)['Close']\n",
    "# Print the first few rows of the data\n",
    "print(gsci_data.head())"
   ]
  },
  {
   "cell_type": "code",
   "execution_count": 43,
   "id": "b3f7e404",
   "metadata": {},
   "outputs": [
    {
     "name": "stderr",
     "output_type": "stream",
     "text": [
      "\r",
      "[*********************100%%**********************]  1 of 1 completed"
     ]
    },
    {
     "name": "stdout",
     "output_type": "stream",
     "text": [
      "Date\n",
      "2023-03-01    170.759995\n",
      "2023-03-02    170.660004\n",
      "2023-03-03    172.490005\n",
      "2023-03-06    171.619995\n",
      "2023-03-07    168.619995\n",
      "Name: Close, dtype: float64\n"
     ]
    },
    {
     "name": "stderr",
     "output_type": "stream",
     "text": [
      "\n"
     ]
    }
   ],
   "source": [
    "# Define the ticker symbol for the GOLD ETF \n",
    "# Here I make a assumption that we will use ETF GLD to calculate for following steps\n",
    "ticker_symbol = \"GLD\"\n",
    "\n",
    "# Define the start and end dates for the historical data\n",
    "start_date = \"2023-03-01\"\n",
    "end_date = \"2024-03-31\"\n",
    "\n",
    "# Download historical data\n",
    "gold_data = yf.download(ticker_symbol, start=start_date, end=end_date)\n",
    "gold_data = pd.DataFrame(gold_data)['Close']\n",
    "# Print the first few rows of the data\n",
    "print(gold_data.head())"
   ]
  },
  {
   "cell_type": "code",
   "execution_count": 46,
   "id": "fde27c95",
   "metadata": {},
   "outputs": [
    {
     "name": "stderr",
     "output_type": "stream",
     "text": [
      "\r",
      "[*********************100%%**********************]  1 of 1 completed"
     ]
    },
    {
     "name": "stdout",
     "output_type": "stream",
     "text": [
      "Date\n",
      "2023-03-01    94.800003\n",
      "2023-03-02    94.410004\n",
      "2023-03-03    95.169998\n",
      "2023-03-06    95.000000\n",
      "2023-03-07    95.010002\n",
      "Name: Close, dtype: float64\n"
     ]
    },
    {
     "name": "stderr",
     "output_type": "stream",
     "text": [
      "\n"
     ]
    }
   ],
   "source": [
    "# Define the ticker symbol for US 10Y Treasuries\n",
    "# Here I make a assumption that we will use ETF IEF as proxy to calculate for following steps\n",
    "ticker_symbol = \"IEF\"\n",
    "\n",
    "# Define the start and end dates for the historical data\n",
    "start_date = \"2023-03-01\"\n",
    "end_date = \"2024-03-31\"\n",
    "\n",
    "# Download historical data\n",
    "ief_data = yf.download(ticker_symbol, start=start_date, end=end_date)\n",
    "ief_data = pd.DataFrame(ief_data)['Close']\n",
    "# Print the first few rows of the data\n",
    "print(ief_data.head())"
   ]
  },
  {
   "cell_type": "code",
   "execution_count": 94,
   "id": "32736244",
   "metadata": {},
   "outputs": [
    {
     "name": "stderr",
     "output_type": "stream",
     "text": [
      "[*********************100%%**********************]  1 of 1 completed\n"
     ]
    },
    {
     "data": {
      "text/html": [
       "<div>\n",
       "<style scoped>\n",
       "    .dataframe tbody tr th:only-of-type {\n",
       "        vertical-align: middle;\n",
       "    }\n",
       "\n",
       "    .dataframe tbody tr th {\n",
       "        vertical-align: top;\n",
       "    }\n",
       "\n",
       "    .dataframe thead th {\n",
       "        text-align: right;\n",
       "    }\n",
       "</style>\n",
       "<table border=\"1\" class=\"dataframe\">\n",
       "  <thead>\n",
       "    <tr style=\"text-align: right;\">\n",
       "      <th></th>\n",
       "      <th>Open</th>\n",
       "      <th>High</th>\n",
       "      <th>Low</th>\n",
       "      <th>Close</th>\n",
       "      <th>Adj Close</th>\n",
       "      <th>Volume</th>\n",
       "    </tr>\n",
       "    <tr>\n",
       "      <th>Date</th>\n",
       "      <th></th>\n",
       "      <th></th>\n",
       "      <th></th>\n",
       "      <th></th>\n",
       "      <th></th>\n",
       "      <th></th>\n",
       "    </tr>\n",
       "  </thead>\n",
       "  <tbody>\n",
       "    <tr>\n",
       "      <th>2023-03-01</th>\n",
       "      <td>3.940</td>\n",
       "      <td>4.006</td>\n",
       "      <td>3.934</td>\n",
       "      <td>3.994</td>\n",
       "      <td>3.994</td>\n",
       "      <td>0</td>\n",
       "    </tr>\n",
       "    <tr>\n",
       "      <th>2023-03-02</th>\n",
       "      <td>4.050</td>\n",
       "      <td>4.091</td>\n",
       "      <td>4.044</td>\n",
       "      <td>4.073</td>\n",
       "      <td>4.073</td>\n",
       "      <td>0</td>\n",
       "    </tr>\n",
       "    <tr>\n",
       "      <th>2023-03-03</th>\n",
       "      <td>4.013</td>\n",
       "      <td>4.026</td>\n",
       "      <td>3.962</td>\n",
       "      <td>3.964</td>\n",
       "      <td>3.964</td>\n",
       "      <td>0</td>\n",
       "    </tr>\n",
       "    <tr>\n",
       "      <th>2023-03-06</th>\n",
       "      <td>3.905</td>\n",
       "      <td>3.989</td>\n",
       "      <td>3.897</td>\n",
       "      <td>3.983</td>\n",
       "      <td>3.983</td>\n",
       "      <td>0</td>\n",
       "    </tr>\n",
       "    <tr>\n",
       "      <th>2023-03-07</th>\n",
       "      <td>3.940</td>\n",
       "      <td>4.007</td>\n",
       "      <td>3.921</td>\n",
       "      <td>3.975</td>\n",
       "      <td>3.975</td>\n",
       "      <td>0</td>\n",
       "    </tr>\n",
       "    <tr>\n",
       "      <th>...</th>\n",
       "      <td>...</td>\n",
       "      <td>...</td>\n",
       "      <td>...</td>\n",
       "      <td>...</td>\n",
       "      <td>...</td>\n",
       "      <td>...</td>\n",
       "    </tr>\n",
       "    <tr>\n",
       "      <th>2024-03-22</th>\n",
       "      <td>4.220</td>\n",
       "      <td>4.226</td>\n",
       "      <td>4.200</td>\n",
       "      <td>4.218</td>\n",
       "      <td>4.218</td>\n",
       "      <td>0</td>\n",
       "    </tr>\n",
       "    <tr>\n",
       "      <th>2024-03-25</th>\n",
       "      <td>4.232</td>\n",
       "      <td>4.261</td>\n",
       "      <td>4.222</td>\n",
       "      <td>4.253</td>\n",
       "      <td>4.253</td>\n",
       "      <td>0</td>\n",
       "    </tr>\n",
       "    <tr>\n",
       "      <th>2024-03-26</th>\n",
       "      <td>4.236</td>\n",
       "      <td>4.273</td>\n",
       "      <td>4.232</td>\n",
       "      <td>4.234</td>\n",
       "      <td>4.234</td>\n",
       "      <td>0</td>\n",
       "    </tr>\n",
       "    <tr>\n",
       "      <th>2024-03-27</th>\n",
       "      <td>4.220</td>\n",
       "      <td>4.228</td>\n",
       "      <td>4.183</td>\n",
       "      <td>4.196</td>\n",
       "      <td>4.196</td>\n",
       "      <td>0</td>\n",
       "    </tr>\n",
       "    <tr>\n",
       "      <th>2024-03-28</th>\n",
       "      <td>4.230</td>\n",
       "      <td>4.234</td>\n",
       "      <td>4.183</td>\n",
       "      <td>4.206</td>\n",
       "      <td>4.206</td>\n",
       "      <td>0</td>\n",
       "    </tr>\n",
       "  </tbody>\n",
       "</table>\n",
       "<p>272 rows × 6 columns</p>\n",
       "</div>"
      ],
      "text/plain": [
       "             Open   High    Low  Close  Adj Close  Volume\n",
       "Date                                                     \n",
       "2023-03-01  3.940  4.006  3.934  3.994      3.994       0\n",
       "2023-03-02  4.050  4.091  4.044  4.073      4.073       0\n",
       "2023-03-03  4.013  4.026  3.962  3.964      3.964       0\n",
       "2023-03-06  3.905  3.989  3.897  3.983      3.983       0\n",
       "2023-03-07  3.940  4.007  3.921  3.975      3.975       0\n",
       "...           ...    ...    ...    ...        ...     ...\n",
       "2024-03-22  4.220  4.226  4.200  4.218      4.218       0\n",
       "2024-03-25  4.232  4.261  4.222  4.253      4.253       0\n",
       "2024-03-26  4.236  4.273  4.232  4.234      4.234       0\n",
       "2024-03-27  4.220  4.228  4.183  4.196      4.196       0\n",
       "2024-03-28  4.230  4.234  4.183  4.206      4.206       0\n",
       "\n",
       "[272 rows x 6 columns]"
      ]
     },
     "execution_count": 94,
     "metadata": {},
     "output_type": "execute_result"
    }
   ],
   "source": [
    "ticker_symbol = \"^TNX\"\n",
    "yf.download(ticker_symbol, start=start_date, end=end_date)"
   ]
  },
  {
   "cell_type": "code",
   "execution_count": 72,
   "id": "833875c4",
   "metadata": {},
   "outputs": [
    {
     "name": "stdout",
     "output_type": "stream",
     "text": [
      "          Price\n",
      "Date           \n",
      "3/1/2023  21.90\n",
      "3/2/2023  21.78\n",
      "3/3/2023  21.91\n",
      "3/6/2023  21.99\n",
      "3/7/2023  21.97\n"
     ]
    }
   ],
   "source": [
    "# Define the ticker symbol for CA 10Y Treasuries\n",
    "\n",
    "ca_tbond_data = pd.read_csv('C:/Users/Pei/Desktop/VGV Historical Data.csv')\n",
    "\n",
    "ca_tbond_data=ca_tbond_data[['Date','Price']]\n",
    "ca_tbond_data.set_index('Date',inplace=True)\n",
    "# Print the first few rows of the data\n",
    "print(ca_tbond_data.head())"
   ]
  },
  {
   "cell_type": "code",
   "execution_count": 91,
   "id": "dfbf2ccf",
   "metadata": {},
   "outputs": [
    {
     "data": {
      "text/html": [
       "<div>\n",
       "<style scoped>\n",
       "    .dataframe tbody tr th:only-of-type {\n",
       "        vertical-align: middle;\n",
       "    }\n",
       "\n",
       "    .dataframe tbody tr th {\n",
       "        vertical-align: top;\n",
       "    }\n",
       "\n",
       "    .dataframe thead th {\n",
       "        text-align: right;\n",
       "    }\n",
       "</style>\n",
       "<table border=\"1\" class=\"dataframe\">\n",
       "  <thead>\n",
       "    <tr style=\"text-align: right;\">\n",
       "      <th></th>\n",
       "      <th>sp500</th>\n",
       "      <th>tsx</th>\n",
       "      <th>gsci</th>\n",
       "      <th>gold</th>\n",
       "      <th>us_10y_tbond</th>\n",
       "    </tr>\n",
       "    <tr>\n",
       "      <th>Date</th>\n",
       "      <th></th>\n",
       "      <th></th>\n",
       "      <th></th>\n",
       "      <th></th>\n",
       "      <th></th>\n",
       "    </tr>\n",
       "  </thead>\n",
       "  <tbody>\n",
       "    <tr>\n",
       "      <th>2023-03-01</th>\n",
       "      <td>3951.389893</td>\n",
       "      <td>20259.800781</td>\n",
       "      <td>587.869995</td>\n",
       "      <td>170.759995</td>\n",
       "      <td>94.800003</td>\n",
       "    </tr>\n",
       "    <tr>\n",
       "      <th>2023-03-02</th>\n",
       "      <td>3981.350098</td>\n",
       "      <td>20337.199219</td>\n",
       "      <td>588.119995</td>\n",
       "      <td>170.660004</td>\n",
       "      <td>94.410004</td>\n",
       "    </tr>\n",
       "    <tr>\n",
       "      <th>2023-03-03</th>\n",
       "      <td>4045.639893</td>\n",
       "      <td>20581.599609</td>\n",
       "      <td>595.849976</td>\n",
       "      <td>172.490005</td>\n",
       "      <td>95.169998</td>\n",
       "    </tr>\n",
       "    <tr>\n",
       "      <th>2023-03-06</th>\n",
       "      <td>4048.419922</td>\n",
       "      <td>20514.800781</td>\n",
       "      <td>594.239990</td>\n",
       "      <td>171.619995</td>\n",
       "      <td>95.000000</td>\n",
       "    </tr>\n",
       "    <tr>\n",
       "      <th>2023-03-07</th>\n",
       "      <td>3986.370117</td>\n",
       "      <td>20275.500000</td>\n",
       "      <td>582.010010</td>\n",
       "      <td>168.619995</td>\n",
       "      <td>95.010002</td>\n",
       "    </tr>\n",
       "    <tr>\n",
       "      <th>...</th>\n",
       "      <td>...</td>\n",
       "      <td>...</td>\n",
       "      <td>...</td>\n",
       "      <td>...</td>\n",
       "      <td>...</td>\n",
       "    </tr>\n",
       "    <tr>\n",
       "      <th>2024-03-22</th>\n",
       "      <td>5234.180176</td>\n",
       "      <td>21984.099609</td>\n",
       "      <td>574.440002</td>\n",
       "      <td>200.350006</td>\n",
       "      <td>94.500000</td>\n",
       "    </tr>\n",
       "    <tr>\n",
       "      <th>2024-03-25</th>\n",
       "      <td>5218.189941</td>\n",
       "      <td>21942.300781</td>\n",
       "      <td>579.760010</td>\n",
       "      <td>200.990005</td>\n",
       "      <td>94.250000</td>\n",
       "    </tr>\n",
       "    <tr>\n",
       "      <th>2024-03-26</th>\n",
       "      <td>5203.580078</td>\n",
       "      <td>21912.500000</td>\n",
       "      <td>575.570007</td>\n",
       "      <td>201.639999</td>\n",
       "      <td>94.389999</td>\n",
       "    </tr>\n",
       "    <tr>\n",
       "      <th>2024-03-27</th>\n",
       "      <td>5248.490234</td>\n",
       "      <td>22107.099609</td>\n",
       "      <td>573.890015</td>\n",
       "      <td>203.100006</td>\n",
       "      <td>94.750000</td>\n",
       "    </tr>\n",
       "    <tr>\n",
       "      <th>2024-03-28</th>\n",
       "      <td>5254.350098</td>\n",
       "      <td>22167.000000</td>\n",
       "      <td>582.479980</td>\n",
       "      <td>205.720001</td>\n",
       "      <td>94.660004</td>\n",
       "    </tr>\n",
       "  </tbody>\n",
       "</table>\n",
       "<p>272 rows × 5 columns</p>\n",
       "</div>"
      ],
      "text/plain": [
       "                  sp500           tsx        gsci        gold  us_10y_tbond\n",
       "Date                                                                       \n",
       "2023-03-01  3951.389893  20259.800781  587.869995  170.759995     94.800003\n",
       "2023-03-02  3981.350098  20337.199219  588.119995  170.660004     94.410004\n",
       "2023-03-03  4045.639893  20581.599609  595.849976  172.490005     95.169998\n",
       "2023-03-06  4048.419922  20514.800781  594.239990  171.619995     95.000000\n",
       "2023-03-07  3986.370117  20275.500000  582.010010  168.619995     95.010002\n",
       "...                 ...           ...         ...         ...           ...\n",
       "2024-03-22  5234.180176  21984.099609  574.440002  200.350006     94.500000\n",
       "2024-03-25  5218.189941  21942.300781  579.760010  200.990005     94.250000\n",
       "2024-03-26  5203.580078  21912.500000  575.570007  201.639999     94.389999\n",
       "2024-03-27  5248.490234  22107.099609  573.890015  203.100006     94.750000\n",
       "2024-03-28  5254.350098  22167.000000  582.479980  205.720001     94.660004\n",
       "\n",
       "[272 rows x 5 columns]"
      ]
     },
     "execution_count": 91,
     "metadata": {},
     "output_type": "execute_result"
    }
   ],
   "source": [
    "data_total=pd.DataFrame()\n",
    "data_total['sp500'] = sp500_data\n",
    "data_total['tsx']=tsx_data\n",
    "data_total['gsci']=gsci_data\n",
    "data_total['gold']=gold_data\n",
    "data_total['us_10y_tbond']=ief_data\n",
    "# data_total['ca_10y_tbond']=ca_tbond_data[['Price']]\n",
    "data_total"
   ]
  },
  {
   "cell_type": "code",
   "execution_count": 78,
   "id": "dca8f653",
   "metadata": {},
   "outputs": [],
   "source": [
    "# calculate return\n",
    "rets=data_total.pct_change()"
   ]
  },
  {
   "cell_type": "code",
   "execution_count": 79,
   "id": "46b4a13c",
   "metadata": {},
   "outputs": [
    {
     "data": {
      "text/html": [
       "<div>\n",
       "<style scoped>\n",
       "    .dataframe tbody tr th:only-of-type {\n",
       "        vertical-align: middle;\n",
       "    }\n",
       "\n",
       "    .dataframe tbody tr th {\n",
       "        vertical-align: top;\n",
       "    }\n",
       "\n",
       "    .dataframe thead th {\n",
       "        text-align: right;\n",
       "    }\n",
       "</style>\n",
       "<table border=\"1\" class=\"dataframe\">\n",
       "  <thead>\n",
       "    <tr style=\"text-align: right;\">\n",
       "      <th></th>\n",
       "      <th>sp500</th>\n",
       "      <th>tsx</th>\n",
       "      <th>gsci</th>\n",
       "      <th>gold</th>\n",
       "      <th>us_10y_tbond</th>\n",
       "    </tr>\n",
       "    <tr>\n",
       "      <th>Date</th>\n",
       "      <th></th>\n",
       "      <th></th>\n",
       "      <th></th>\n",
       "      <th></th>\n",
       "      <th></th>\n",
       "    </tr>\n",
       "  </thead>\n",
       "  <tbody>\n",
       "    <tr>\n",
       "      <th>2023-03-01</th>\n",
       "      <td>NaN</td>\n",
       "      <td>NaN</td>\n",
       "      <td>NaN</td>\n",
       "      <td>NaN</td>\n",
       "      <td>NaN</td>\n",
       "    </tr>\n",
       "    <tr>\n",
       "      <th>2023-03-02</th>\n",
       "      <td>0.007582</td>\n",
       "      <td>0.003820</td>\n",
       "      <td>0.000425</td>\n",
       "      <td>-0.000586</td>\n",
       "      <td>-0.004114</td>\n",
       "    </tr>\n",
       "    <tr>\n",
       "      <th>2023-03-03</th>\n",
       "      <td>0.016148</td>\n",
       "      <td>0.012017</td>\n",
       "      <td>0.013144</td>\n",
       "      <td>0.010723</td>\n",
       "      <td>0.008050</td>\n",
       "    </tr>\n",
       "    <tr>\n",
       "      <th>2023-03-06</th>\n",
       "      <td>0.000687</td>\n",
       "      <td>-0.003246</td>\n",
       "      <td>-0.002702</td>\n",
       "      <td>-0.005044</td>\n",
       "      <td>-0.001786</td>\n",
       "    </tr>\n",
       "    <tr>\n",
       "      <th>2023-03-07</th>\n",
       "      <td>-0.015327</td>\n",
       "      <td>-0.011665</td>\n",
       "      <td>-0.020581</td>\n",
       "      <td>-0.017480</td>\n",
       "      <td>0.000105</td>\n",
       "    </tr>\n",
       "  </tbody>\n",
       "</table>\n",
       "</div>"
      ],
      "text/plain": [
       "               sp500       tsx      gsci      gold  us_10y_tbond\n",
       "Date                                                            \n",
       "2023-03-01       NaN       NaN       NaN       NaN           NaN\n",
       "2023-03-02  0.007582  0.003820  0.000425 -0.000586     -0.004114\n",
       "2023-03-03  0.016148  0.012017  0.013144  0.010723      0.008050\n",
       "2023-03-06  0.000687 -0.003246 -0.002702 -0.005044     -0.001786\n",
       "2023-03-07 -0.015327 -0.011665 -0.020581 -0.017480      0.000105"
      ]
     },
     "execution_count": 79,
     "metadata": {},
     "output_type": "execute_result"
    }
   ],
   "source": [
    "rets.head()"
   ]
  },
  {
   "cell_type": "code",
   "execution_count": 178,
   "id": "38a39236",
   "metadata": {},
   "outputs": [],
   "source": [
    "#calculate daily rate of return\n",
    "return_daily_mean=((1+rets).prod())**(1/rets.shape[0])-1"
   ]
  },
  {
   "cell_type": "code",
   "execution_count": 179,
   "id": "c52ed851",
   "metadata": {},
   "outputs": [
    {
     "data": {
      "text/plain": [
       "sp500           0.001048\n",
       "tsx             0.000331\n",
       "gsci           -0.000034\n",
       "gold            0.000685\n",
       "us_10y_tbond   -0.000005\n",
       "dtype: float64"
      ]
     },
     "execution_count": 179,
     "metadata": {},
     "output_type": "execute_result"
    }
   ],
   "source": [
    "return_daily_mean"
   ]
  },
  {
   "cell_type": "code",
   "execution_count": null,
   "id": "e2ea78eb",
   "metadata": {},
   "outputs": [],
   "source": []
  },
  {
   "cell_type": "code",
   "execution_count": 180,
   "id": "98e27fde",
   "metadata": {},
   "outputs": [],
   "source": [
    "return_daily_mean=pd.DataFrame(return_daily_mean)\n"
   ]
  },
  {
   "cell_type": "code",
   "execution_count": 182,
   "id": "1b706ef0",
   "metadata": {},
   "outputs": [],
   "source": [
    "return_daily_mean.rename(columns={0: \"daily_return\"}, inplace=True)"
   ]
  },
  {
   "cell_type": "code",
   "execution_count": 183,
   "id": "6a392090",
   "metadata": {},
   "outputs": [
    {
     "data": {
      "text/html": [
       "<div>\n",
       "<style scoped>\n",
       "    .dataframe tbody tr th:only-of-type {\n",
       "        vertical-align: middle;\n",
       "    }\n",
       "\n",
       "    .dataframe tbody tr th {\n",
       "        vertical-align: top;\n",
       "    }\n",
       "\n",
       "    .dataframe thead th {\n",
       "        text-align: right;\n",
       "    }\n",
       "</style>\n",
       "<table border=\"1\" class=\"dataframe\">\n",
       "  <thead>\n",
       "    <tr style=\"text-align: right;\">\n",
       "      <th></th>\n",
       "      <th>daily_return</th>\n",
       "    </tr>\n",
       "  </thead>\n",
       "  <tbody>\n",
       "    <tr>\n",
       "      <th>sp500</th>\n",
       "      <td>0.001048</td>\n",
       "    </tr>\n",
       "    <tr>\n",
       "      <th>tsx</th>\n",
       "      <td>0.000331</td>\n",
       "    </tr>\n",
       "    <tr>\n",
       "      <th>gsci</th>\n",
       "      <td>-0.000034</td>\n",
       "    </tr>\n",
       "    <tr>\n",
       "      <th>gold</th>\n",
       "      <td>0.000685</td>\n",
       "    </tr>\n",
       "    <tr>\n",
       "      <th>us_10y_tbond</th>\n",
       "      <td>-0.000005</td>\n",
       "    </tr>\n",
       "  </tbody>\n",
       "</table>\n",
       "</div>"
      ],
      "text/plain": [
       "              daily_return\n",
       "sp500             0.001048\n",
       "tsx               0.000331\n",
       "gsci             -0.000034\n",
       "gold              0.000685\n",
       "us_10y_tbond     -0.000005"
      ]
     },
     "execution_count": 183,
     "metadata": {},
     "output_type": "execute_result"
    }
   ],
   "source": [
    "return_daily_mean"
   ]
  },
  {
   "cell_type": "code",
   "execution_count": 161,
   "id": "db6b8222",
   "metadata": {},
   "outputs": [],
   "source": [
    "# calculate variance\n",
    "\n",
    "daily_var=rets.var()"
   ]
  },
  {
   "cell_type": "code",
   "execution_count": 162,
   "id": "c453ed8b",
   "metadata": {},
   "outputs": [],
   "source": [
    "# calculate std\n",
    "#annual_std=rets.std()*np.sqrt(252)\n",
    "daily_std=rets.std()"
   ]
  },
  {
   "cell_type": "code",
   "execution_count": 163,
   "id": "ba15da82",
   "metadata": {},
   "outputs": [],
   "source": [
    "daily_std=pd.DataFrame(annual_std)"
   ]
  },
  {
   "cell_type": "code",
   "execution_count": 164,
   "id": "c309fc9b",
   "metadata": {},
   "outputs": [],
   "source": [
    "daily_std.rename(columns={0: \"std\"}, inplace=True)"
   ]
  },
  {
   "cell_type": "code",
   "execution_count": 158,
   "id": "ed05c0ee",
   "metadata": {},
   "outputs": [
    {
     "data": {
      "text/html": [
       "<div>\n",
       "<style scoped>\n",
       "    .dataframe tbody tr th:only-of-type {\n",
       "        vertical-align: middle;\n",
       "    }\n",
       "\n",
       "    .dataframe tbody tr th {\n",
       "        vertical-align: top;\n",
       "    }\n",
       "\n",
       "    .dataframe thead th {\n",
       "        text-align: right;\n",
       "    }\n",
       "</style>\n",
       "<table border=\"1\" class=\"dataframe\">\n",
       "  <thead>\n",
       "    <tr style=\"text-align: right;\">\n",
       "      <th></th>\n",
       "      <th>std</th>\n",
       "    </tr>\n",
       "  </thead>\n",
       "  <tbody>\n",
       "    <tr>\n",
       "      <th>sp500</th>\n",
       "      <td>0.007648</td>\n",
       "    </tr>\n",
       "    <tr>\n",
       "      <th>tsx</th>\n",
       "      <td>0.007184</td>\n",
       "    </tr>\n",
       "    <tr>\n",
       "      <th>gsci</th>\n",
       "      <td>0.011369</td>\n",
       "    </tr>\n",
       "    <tr>\n",
       "      <th>gold</th>\n",
       "      <td>0.008038</td>\n",
       "    </tr>\n",
       "    <tr>\n",
       "      <th>us_10y_tbond</th>\n",
       "      <td>0.005600</td>\n",
       "    </tr>\n",
       "  </tbody>\n",
       "</table>\n",
       "</div>"
      ],
      "text/plain": [
       "                   std\n",
       "sp500         0.007648\n",
       "tsx           0.007184\n",
       "gsci          0.011369\n",
       "gold          0.008038\n",
       "us_10y_tbond  0.005600"
      ]
     },
     "execution_count": 158,
     "metadata": {},
     "output_type": "execute_result"
    }
   ],
   "source": [
    "daily_std"
   ]
  },
  {
   "cell_type": "markdown",
   "id": "b7683d22",
   "metadata": {},
   "source": [
    "The economic outlook in US is much better compare to the sluggish market in Canada, this conclusion is drawn from labour market, equity market, real estate data, GDP and CPI data. The US market has higher depth in consumer the negative impact on rate hike compared to Canada, economic is able to maintain resistency in high interest rate environment. And Given the money tary policy, and the dependency of two counties o oil price, it is estimated that USD currency to appreciate compared to CAD. Based on the analysis and prospect above, I would allocate 20% to Canada EQ market, 50% to US market, 10% to S&P GSCI Index, 10% to GOLD and 10% to US T-bond."
   ]
  },
  {
   "cell_type": "code",
   "execution_count": 188,
   "id": "6c3466a7",
   "metadata": {},
   "outputs": [],
   "source": [
    "all=pd.DataFrame({'asset_class':['sp500','tsx','gsci','gold','us_10y_tbond'],'weight':[0.5,0.2,0.1,0.1,0.1]})\n",
    "                  "
   ]
  },
  {
   "cell_type": "code",
   "execution_count": 189,
   "id": "8133ca89",
   "metadata": {},
   "outputs": [],
   "source": [
    "all.set_index(['asset_class'],inplace=True)"
   ]
  },
  {
   "cell_type": "code",
   "execution_count": 190,
   "id": "42bfe298",
   "metadata": {},
   "outputs": [],
   "source": [
    "all['std']=daily_std['std']\n",
    "all['daily_return']=return_daily_mean['daily_return']"
   ]
  },
  {
   "cell_type": "code",
   "execution_count": 242,
   "id": "f0b855f1",
   "metadata": {},
   "outputs": [
    {
     "data": {
      "text/html": [
       "<div>\n",
       "<style scoped>\n",
       "    .dataframe tbody tr th:only-of-type {\n",
       "        vertical-align: middle;\n",
       "    }\n",
       "\n",
       "    .dataframe tbody tr th {\n",
       "        vertical-align: top;\n",
       "    }\n",
       "\n",
       "    .dataframe thead th {\n",
       "        text-align: right;\n",
       "    }\n",
       "</style>\n",
       "<table border=\"1\" class=\"dataframe\">\n",
       "  <thead>\n",
       "    <tr style=\"text-align: right;\">\n",
       "      <th></th>\n",
       "      <th>weight</th>\n",
       "      <th>std</th>\n",
       "      <th>daily_return</th>\n",
       "    </tr>\n",
       "    <tr>\n",
       "      <th>asset_class</th>\n",
       "      <th></th>\n",
       "      <th></th>\n",
       "      <th></th>\n",
       "    </tr>\n",
       "  </thead>\n",
       "  <tbody>\n",
       "    <tr>\n",
       "      <th>sp500</th>\n",
       "      <td>0.5</td>\n",
       "      <td>0.007648</td>\n",
       "      <td>0.001048</td>\n",
       "    </tr>\n",
       "    <tr>\n",
       "      <th>tsx</th>\n",
       "      <td>0.2</td>\n",
       "      <td>0.007184</td>\n",
       "      <td>0.000331</td>\n",
       "    </tr>\n",
       "    <tr>\n",
       "      <th>gsci</th>\n",
       "      <td>0.1</td>\n",
       "      <td>0.011369</td>\n",
       "      <td>-0.000034</td>\n",
       "    </tr>\n",
       "    <tr>\n",
       "      <th>gold</th>\n",
       "      <td>0.1</td>\n",
       "      <td>0.008038</td>\n",
       "      <td>0.000685</td>\n",
       "    </tr>\n",
       "    <tr>\n",
       "      <th>us_10y_tbond</th>\n",
       "      <td>0.1</td>\n",
       "      <td>0.005600</td>\n",
       "      <td>-0.000005</td>\n",
       "    </tr>\n",
       "  </tbody>\n",
       "</table>\n",
       "</div>"
      ],
      "text/plain": [
       "              weight       std  daily_return\n",
       "asset_class                                 \n",
       "sp500            0.5  0.007648      0.001048\n",
       "tsx              0.2  0.007184      0.000331\n",
       "gsci             0.1  0.011369     -0.000034\n",
       "gold             0.1  0.008038      0.000685\n",
       "us_10y_tbond     0.1  0.005600     -0.000005"
      ]
     },
     "execution_count": 242,
     "metadata": {},
     "output_type": "execute_result"
    }
   ],
   "source": [
    "all"
   ]
  },
  {
   "cell_type": "code",
   "execution_count": 192,
   "id": "dfdb5ca9",
   "metadata": {},
   "outputs": [],
   "source": []
  },
  {
   "cell_type": "code",
   "execution_count": 224,
   "id": "503f80a0",
   "metadata": {},
   "outputs": [],
   "source": [
    "# Calculate total portfolio volatity\n",
    "def vol(matrix):\n",
    "    s=0\n",
    "    n=matrix.shape[0]\n",
    "    for i in range(n):\n",
    "        w_i = matrix.iloc[i][0]\n",
    "        vol_i = matrix.iloc[i][1]\n",
    "        for j in range(n):\n",
    "            w_j = matrix.iloc[j][0]\n",
    "            vol_j = matrix.iloc[j][1]\n",
    "            s=s+ w_i*w_j*vol_i*vol_j\n",
    "            vol_total=np.sqrt(s)\n",
    "    return vol_total"
   ]
  },
  {
   "cell_type": "code",
   "execution_count": 225,
   "id": "693a0500",
   "metadata": {},
   "outputs": [
    {
     "data": {
      "text/plain": [
       "0.00776125191609169"
      ]
     },
     "execution_count": 225,
     "metadata": {},
     "output_type": "execute_result"
    }
   ],
   "source": [
    "vol_total=vol(all)\n",
    "vol_total"
   ]
  },
  {
   "cell_type": "code",
   "execution_count": 196,
   "id": "8999ee77",
   "metadata": {},
   "outputs": [],
   "source": [
    "# Calculate total expected return\n",
    "return_total=sum(all['weight']*all['daily_return'])"
   ]
  },
  {
   "cell_type": "code",
   "execution_count": 198,
   "id": "3c7f3ff0",
   "metadata": {},
   "outputs": [
    {
     "data": {
      "text/plain": [
       "0.0006548843042388342"
      ]
     },
     "execution_count": 198,
     "metadata": {},
     "output_type": "execute_result"
    }
   ],
   "source": [
    "return_total"
   ]
  },
  {
   "cell_type": "markdown",
   "id": "c68b797d",
   "metadata": {},
   "source": [
    "### Portoflio Total VaR"
   ]
  },
  {
   "cell_type": "code",
   "execution_count": 261,
   "id": "c1e3d204",
   "metadata": {},
   "outputs": [
    {
     "data": {
      "text/plain": [
       "0.017400116028165262"
      ]
     },
     "execution_count": 261,
     "metadata": {},
     "output_type": "execute_result"
    }
   ],
   "source": [
    "# Assumption: Using parametric method to calculate 1Day VaR at 99% confidence level.\n",
    "VaR = abs(return_total -2.3263 * vol_total)\n",
    "VaR"
   ]
  },
  {
   "cell_type": "markdown",
   "id": "b8692ce2",
   "metadata": {},
   "source": [
    "### Incrementtal VaR"
   ]
  },
  {
   "cell_type": "markdown",
   "id": "667bcce1",
   "metadata": {},
   "source": [
    "### Incremental VaR of SP500"
   ]
  },
  {
   "cell_type": "code",
   "execution_count": 227,
   "id": "f3a8ed8e",
   "metadata": {},
   "outputs": [
    {
     "data": {
      "text/html": [
       "<div>\n",
       "<style scoped>\n",
       "    .dataframe tbody tr th:only-of-type {\n",
       "        vertical-align: middle;\n",
       "    }\n",
       "\n",
       "    .dataframe tbody tr th {\n",
       "        vertical-align: top;\n",
       "    }\n",
       "\n",
       "    .dataframe thead th {\n",
       "        text-align: right;\n",
       "    }\n",
       "</style>\n",
       "<table border=\"1\" class=\"dataframe\">\n",
       "  <thead>\n",
       "    <tr style=\"text-align: right;\">\n",
       "      <th></th>\n",
       "      <th>weight</th>\n",
       "      <th>std</th>\n",
       "      <th>daily_return</th>\n",
       "    </tr>\n",
       "    <tr>\n",
       "      <th>asset_class</th>\n",
       "      <th></th>\n",
       "      <th></th>\n",
       "      <th></th>\n",
       "    </tr>\n",
       "  </thead>\n",
       "  <tbody>\n",
       "    <tr>\n",
       "      <th>tsx</th>\n",
       "      <td>0.2</td>\n",
       "      <td>0.007184</td>\n",
       "      <td>0.000331</td>\n",
       "    </tr>\n",
       "    <tr>\n",
       "      <th>gsci</th>\n",
       "      <td>0.1</td>\n",
       "      <td>0.011369</td>\n",
       "      <td>-0.000034</td>\n",
       "    </tr>\n",
       "    <tr>\n",
       "      <th>gold</th>\n",
       "      <td>0.1</td>\n",
       "      <td>0.008038</td>\n",
       "      <td>0.000685</td>\n",
       "    </tr>\n",
       "    <tr>\n",
       "      <th>us_10y_tbond</th>\n",
       "      <td>0.1</td>\n",
       "      <td>0.005600</td>\n",
       "      <td>-0.000005</td>\n",
       "    </tr>\n",
       "  </tbody>\n",
       "</table>\n",
       "</div>"
      ],
      "text/plain": [
       "              weight       std  daily_return\n",
       "asset_class                                 \n",
       "tsx              0.2  0.007184      0.000331\n",
       "gsci             0.1  0.011369     -0.000034\n",
       "gold             0.1  0.008038      0.000685\n",
       "us_10y_tbond     0.1  0.005600     -0.000005"
      ]
     },
     "execution_count": 227,
     "metadata": {},
     "output_type": "execute_result"
    }
   ],
   "source": [
    "excl_sp500 = all[1:]\n",
    "excl_sp500"
   ]
  },
  {
   "cell_type": "code",
   "execution_count": 233,
   "id": "747f28dd",
   "metadata": {},
   "outputs": [],
   "source": [
    "excl_sp500_vol = vol(excl_sp500)"
   ]
  },
  {
   "cell_type": "code",
   "execution_count": 234,
   "id": "5941509a",
   "metadata": {},
   "outputs": [
    {
     "data": {
      "text/plain": [
       "0.0039373626320169065"
      ]
     },
     "execution_count": 234,
     "metadata": {},
     "output_type": "execute_result"
    }
   ],
   "source": [
    "excl_sp500_vol"
   ]
  },
  {
   "cell_type": "code",
   "execution_count": 229,
   "id": "31f005a4",
   "metadata": {},
   "outputs": [],
   "source": [
    "excl_sp500_return = sum(excl_sp500['daily_return']*excl_sp500['weight'])"
   ]
  },
  {
   "cell_type": "code",
   "execution_count": 230,
   "id": "b4c785bf",
   "metadata": {},
   "outputs": [
    {
     "data": {
      "text/plain": [
       "0.0001307330428284681"
      ]
     },
     "execution_count": 230,
     "metadata": {},
     "output_type": "execute_result"
    }
   ],
   "source": [
    "excl_sp500_return"
   ]
  },
  {
   "cell_type": "code",
   "execution_count": 264,
   "id": "af48839b",
   "metadata": {},
   "outputs": [
    {
     "data": {
      "text/plain": [
       "0.009028753648032461"
      ]
     },
     "execution_count": 264,
     "metadata": {},
     "output_type": "execute_result"
    }
   ],
   "source": [
    "excl_sp500_VaR = abs(excl_sp500_return -2.3263 *excl_sp500_vol)\n",
    "excl_sp500_VaR"
   ]
  },
  {
   "cell_type": "code",
   "execution_count": 265,
   "id": "789bbb60",
   "metadata": {},
   "outputs": [
    {
     "data": {
      "text/plain": [
       "0.0083713623801328"
      ]
     },
     "execution_count": 265,
     "metadata": {},
     "output_type": "execute_result"
    }
   ],
   "source": [
    "sp500_incrmt_var = VaR- excl_sp500_VaR\n",
    "sp500_incrmt_var"
   ]
  },
  {
   "cell_type": "markdown",
   "id": "0d4a77bd",
   "metadata": {},
   "source": [
    "### Incremental VaR of tsx"
   ]
  },
  {
   "cell_type": "code",
   "execution_count": 252,
   "id": "62dc527e",
   "metadata": {},
   "outputs": [
    {
     "data": {
      "text/html": [
       "<div>\n",
       "<style scoped>\n",
       "    .dataframe tbody tr th:only-of-type {\n",
       "        vertical-align: middle;\n",
       "    }\n",
       "\n",
       "    .dataframe tbody tr th {\n",
       "        vertical-align: top;\n",
       "    }\n",
       "\n",
       "    .dataframe thead th {\n",
       "        text-align: right;\n",
       "    }\n",
       "</style>\n",
       "<table border=\"1\" class=\"dataframe\">\n",
       "  <thead>\n",
       "    <tr style=\"text-align: right;\">\n",
       "      <th></th>\n",
       "      <th>weight</th>\n",
       "      <th>std</th>\n",
       "      <th>daily_return</th>\n",
       "    </tr>\n",
       "    <tr>\n",
       "      <th>asset_class</th>\n",
       "      <th></th>\n",
       "      <th></th>\n",
       "      <th></th>\n",
       "    </tr>\n",
       "  </thead>\n",
       "  <tbody>\n",
       "    <tr>\n",
       "      <th>sp500</th>\n",
       "      <td>0.5</td>\n",
       "      <td>0.007648</td>\n",
       "      <td>0.001048</td>\n",
       "    </tr>\n",
       "    <tr>\n",
       "      <th>gsci</th>\n",
       "      <td>0.1</td>\n",
       "      <td>0.011369</td>\n",
       "      <td>-0.000034</td>\n",
       "    </tr>\n",
       "    <tr>\n",
       "      <th>gold</th>\n",
       "      <td>0.1</td>\n",
       "      <td>0.008038</td>\n",
       "      <td>0.000685</td>\n",
       "    </tr>\n",
       "    <tr>\n",
       "      <th>us_10y_tbond</th>\n",
       "      <td>0.1</td>\n",
       "      <td>0.005600</td>\n",
       "      <td>-0.000005</td>\n",
       "    </tr>\n",
       "  </tbody>\n",
       "</table>\n",
       "</div>"
      ],
      "text/plain": [
       "              weight       std  daily_return\n",
       "asset_class                                 \n",
       "sp500            0.5  0.007648      0.001048\n",
       "gsci             0.1  0.011369     -0.000034\n",
       "gold             0.1  0.008038      0.000685\n",
       "us_10y_tbond     0.1  0.005600     -0.000005"
      ]
     },
     "execution_count": 252,
     "metadata": {},
     "output_type": "execute_result"
    }
   ],
   "source": [
    "excl_tsx=all.iloc[[0,2,3,4]]\n",
    "excl_tsx"
   ]
  },
  {
   "cell_type": "code",
   "execution_count": 254,
   "id": "d6d1d022",
   "metadata": {},
   "outputs": [
    {
     "data": {
      "text/plain": [
       "0.006324551753578226"
      ]
     },
     "execution_count": 254,
     "metadata": {},
     "output_type": "execute_result"
    }
   ],
   "source": [
    "excl_tsx_vol = vol(excl_tsx)\n",
    "excl_tsx_vol "
   ]
  },
  {
   "cell_type": "code",
   "execution_count": 255,
   "id": "a3a388e5",
   "metadata": {},
   "outputs": [
    {
     "data": {
      "text/plain": [
       "0.0005887218697401054"
      ]
     },
     "execution_count": 255,
     "metadata": {},
     "output_type": "execute_result"
    }
   ],
   "source": [
    "excl_tsx_return = sum(excl_tsx['daily_return']*excl_tsx['weight'])\n",
    "excl_tsx_return"
   ]
  },
  {
   "cell_type": "code",
   "execution_count": 263,
   "id": "438e9a0b",
   "metadata": {},
   "outputs": [
    {
     "data": {
      "text/plain": [
       "0.014124082874608921"
      ]
     },
     "execution_count": 263,
     "metadata": {},
     "output_type": "execute_result"
    }
   ],
   "source": [
    "excl_tsx_VaR = abs(excl_tsx_return -2.3263 *excl_tsx_vol)\n",
    "excl_tsx_VaR"
   ]
  },
  {
   "cell_type": "code",
   "execution_count": 269,
   "id": "024c35ac",
   "metadata": {},
   "outputs": [
    {
     "data": {
      "text/plain": [
       "0.0032760331535563406"
      ]
     },
     "execution_count": 269,
     "metadata": {},
     "output_type": "execute_result"
    }
   ],
   "source": [
    "tsx_incrmt_var = VaR- excl_tsx_VaR\n",
    "tsx_incrmt_var"
   ]
  },
  {
   "cell_type": "markdown",
   "id": "2ecdab3c",
   "metadata": {},
   "source": [
    "### Incremental VaR of gsci"
   ]
  },
  {
   "cell_type": "code",
   "execution_count": 257,
   "id": "275b0e86",
   "metadata": {},
   "outputs": [
    {
     "data": {
      "text/html": [
       "<div>\n",
       "<style scoped>\n",
       "    .dataframe tbody tr th:only-of-type {\n",
       "        vertical-align: middle;\n",
       "    }\n",
       "\n",
       "    .dataframe tbody tr th {\n",
       "        vertical-align: top;\n",
       "    }\n",
       "\n",
       "    .dataframe thead th {\n",
       "        text-align: right;\n",
       "    }\n",
       "</style>\n",
       "<table border=\"1\" class=\"dataframe\">\n",
       "  <thead>\n",
       "    <tr style=\"text-align: right;\">\n",
       "      <th></th>\n",
       "      <th>weight</th>\n",
       "      <th>std</th>\n",
       "      <th>daily_return</th>\n",
       "    </tr>\n",
       "    <tr>\n",
       "      <th>asset_class</th>\n",
       "      <th></th>\n",
       "      <th></th>\n",
       "      <th></th>\n",
       "    </tr>\n",
       "  </thead>\n",
       "  <tbody>\n",
       "    <tr>\n",
       "      <th>sp500</th>\n",
       "      <td>0.5</td>\n",
       "      <td>0.007648</td>\n",
       "      <td>0.001048</td>\n",
       "    </tr>\n",
       "    <tr>\n",
       "      <th>tsx</th>\n",
       "      <td>0.2</td>\n",
       "      <td>0.007184</td>\n",
       "      <td>0.000331</td>\n",
       "    </tr>\n",
       "    <tr>\n",
       "      <th>gold</th>\n",
       "      <td>0.1</td>\n",
       "      <td>0.008038</td>\n",
       "      <td>0.000685</td>\n",
       "    </tr>\n",
       "    <tr>\n",
       "      <th>us_10y_tbond</th>\n",
       "      <td>0.1</td>\n",
       "      <td>0.005600</td>\n",
       "      <td>-0.000005</td>\n",
       "    </tr>\n",
       "  </tbody>\n",
       "</table>\n",
       "</div>"
      ],
      "text/plain": [
       "              weight       std  daily_return\n",
       "asset_class                                 \n",
       "sp500            0.5  0.007648      0.001048\n",
       "tsx              0.2  0.007184      0.000331\n",
       "gold             0.1  0.008038      0.000685\n",
       "us_10y_tbond     0.1  0.005600     -0.000005"
      ]
     },
     "execution_count": 257,
     "metadata": {},
     "output_type": "execute_result"
    }
   ],
   "source": [
    "excl_gsci=all.iloc[[0,1,3,4]]\n",
    "excl_gsci"
   ]
  },
  {
   "cell_type": "code",
   "execution_count": 267,
   "id": "6128fca3",
   "metadata": {},
   "outputs": [
    {
     "data": {
      "text/plain": [
       "0.014752021799740967"
      ]
     },
     "execution_count": 267,
     "metadata": {},
     "output_type": "execute_result"
    }
   ],
   "source": [
    "excl_gsci_vol = vol(excl_gsci)\n",
    "excl_gsci_vol \n",
    "excl_gsci_return = sum(excl_gsci['daily_return']*excl_gsci['weight'])\n",
    "excl_gsci_return\n",
    "excl_gsci_VaR = abs(excl_gsci_return -2.3263 *excl_gsci_vol)\n",
    "excl_gsci_VaR"
   ]
  },
  {
   "cell_type": "code",
   "execution_count": 270,
   "id": "c315af92",
   "metadata": {},
   "outputs": [
    {
     "data": {
      "text/plain": [
       "0.0026480942284242952"
      ]
     },
     "execution_count": 270,
     "metadata": {},
     "output_type": "execute_result"
    }
   ],
   "source": [
    "gsci_incrmt_var = VaR- excl_gsci_VaR\n",
    "gsci_incrmt_var"
   ]
  },
  {
   "cell_type": "code",
   "execution_count": 277,
   "id": "52d5e391",
   "metadata": {},
   "outputs": [
    {
     "data": {
      "text/html": [
       "<div>\n",
       "<style scoped>\n",
       "    .dataframe tbody tr th:only-of-type {\n",
       "        vertical-align: middle;\n",
       "    }\n",
       "\n",
       "    .dataframe tbody tr th {\n",
       "        vertical-align: top;\n",
       "    }\n",
       "\n",
       "    .dataframe thead th {\n",
       "        text-align: right;\n",
       "    }\n",
       "</style>\n",
       "<table border=\"1\" class=\"dataframe\">\n",
       "  <thead>\n",
       "    <tr style=\"text-align: right;\">\n",
       "      <th></th>\n",
       "      <th>weight</th>\n",
       "      <th>std</th>\n",
       "      <th>daily_return</th>\n",
       "    </tr>\n",
       "    <tr>\n",
       "      <th>asset_class</th>\n",
       "      <th></th>\n",
       "      <th></th>\n",
       "      <th></th>\n",
       "    </tr>\n",
       "  </thead>\n",
       "  <tbody>\n",
       "    <tr>\n",
       "      <th>sp500</th>\n",
       "      <td>0.5</td>\n",
       "      <td>0.007648</td>\n",
       "      <td>0.001048</td>\n",
       "    </tr>\n",
       "    <tr>\n",
       "      <th>tsx</th>\n",
       "      <td>0.2</td>\n",
       "      <td>0.007184</td>\n",
       "      <td>0.000331</td>\n",
       "    </tr>\n",
       "    <tr>\n",
       "      <th>gsci</th>\n",
       "      <td>0.1</td>\n",
       "      <td>0.011369</td>\n",
       "      <td>-0.000034</td>\n",
       "    </tr>\n",
       "    <tr>\n",
       "      <th>gold</th>\n",
       "      <td>0.1</td>\n",
       "      <td>0.008038</td>\n",
       "      <td>0.000685</td>\n",
       "    </tr>\n",
       "    <tr>\n",
       "      <th>us_10y_tbond</th>\n",
       "      <td>0.1</td>\n",
       "      <td>0.005600</td>\n",
       "      <td>-0.000005</td>\n",
       "    </tr>\n",
       "  </tbody>\n",
       "</table>\n",
       "</div>"
      ],
      "text/plain": [
       "              weight       std  daily_return\n",
       "asset_class                                 \n",
       "sp500            0.5  0.007648      0.001048\n",
       "tsx              0.2  0.007184      0.000331\n",
       "gsci             0.1  0.011369     -0.000034\n",
       "gold             0.1  0.008038      0.000685\n",
       "us_10y_tbond     0.1  0.005600     -0.000005"
      ]
     },
     "execution_count": 277,
     "metadata": {},
     "output_type": "execute_result"
    }
   ],
   "source": [
    "all"
   ]
  },
  {
   "cell_type": "markdown",
   "id": "b30a48c3",
   "metadata": {},
   "source": [
    "### Incremental VaR of gold"
   ]
  },
  {
   "cell_type": "code",
   "execution_count": 278,
   "id": "bcebc7be",
   "metadata": {},
   "outputs": [
    {
     "data": {
      "text/plain": [
       "0.0018014160361701122"
      ]
     },
     "execution_count": 278,
     "metadata": {},
     "output_type": "execute_result"
    }
   ],
   "source": [
    "excl_gold=all.iloc[[0,1,2,4]]\n",
    "excl_gold\n",
    "\n",
    "excl_gold_vol = vol(excl_gold)\n",
    "excl_gold_vol \n",
    "excl_gold_return = sum(excl_gold['daily_return']*excl_gold['weight'])\n",
    "excl_gold_return\n",
    "excl_gold_VaR = abs(excl_gold_return -2.3263 *excl_gold_vol)\n",
    "excl_gold_VaR\n",
    "\n",
    "gold_incrmt_var = VaR- excl_gold_VaR\n",
    "gold_incrmt_var"
   ]
  },
  {
   "cell_type": "markdown",
   "id": "5035c01f",
   "metadata": {},
   "source": [
    "### Incremental VaR of US 10Y Tbond"
   ]
  },
  {
   "cell_type": "code",
   "execution_count": 279,
   "id": "01121974",
   "metadata": {},
   "outputs": [
    {
     "data": {
      "text/plain": [
       "0.001303210229881717"
      ]
     },
     "execution_count": 279,
     "metadata": {},
     "output_type": "execute_result"
    }
   ],
   "source": [
    "excl_ustb=all.iloc[[0,1,2,3]]\n",
    "excl_ustb\n",
    "\n",
    "excl_ustb_vol = vol(excl_ustb)\n",
    "excl_ustb_vol \n",
    "excl_ustb_return = sum(excl_ustb['daily_return']*excl_ustb['weight'])\n",
    "excl_ustb_return\n",
    "excl_ustb_VaR = abs(excl_ustb_return -2.3263 *excl_ustb_vol)\n",
    "excl_ustb_VaR\n",
    "\n",
    "ustb_incrmt_var = VaR- excl_ustb_VaR\n",
    "ustb_incrmt_var"
   ]
  },
  {
   "cell_type": "markdown",
   "id": "5ca75398",
   "metadata": {},
   "source": [
    "### 9."
   ]
  },
  {
   "cell_type": "markdown",
   "id": "f3f55f86",
   "metadata": {},
   "source": [
    "Assumption is portfolio behavior pattern is the same for any time window, daily return and daily vol parameters remain the same the other time period calculation\n",
    "\n",
    "For 10 Day VaR we just need to calculated expected 10 Day return, and 10 Day vol, \n",
    "10 Day return = 10 x return_total\n",
    "10 Day vol = sqrt(10) x vol_total\n",
    "Use the formula 10 Day return -z-score x 10 Day vol to arrive at 10Day VaR\n",
    "\n",
    "For 100 Day VaR we just need to calculated expected 100 Day return, and 100 Day vol, \n",
    "100 Day return = 100 x return_total\n",
    "100 Day vol = sqrt(100) x vol_total\n",
    "Use the formula 10 Day return -z-score x 100 Day vol to arrive at 10Day VaR"
   ]
  },
  {
   "cell_type": "markdown",
   "id": "f0b8ad1b",
   "metadata": {},
   "source": [
    "## Section 5 - Quantitative Finance"
   ]
  },
  {
   "cell_type": "markdown",
   "id": "b4007f1d",
   "metadata": {},
   "source": [
    "### 11."
   ]
  },
  {
   "cell_type": "markdown",
   "id": "a8d2d581",
   "metadata": {},
   "source": [
    "I would be willing to pat the stock price of underlying security to buy the call option. According to the BSM model, when vol is infinity, d1 is approximating inifinity, so N(d1) is almost 1, and d2 is approximating negative inifinty, so N(d2) is extremely small, almost close to 0. So the call option price is very close to stock price. "
   ]
  },
  {
   "cell_type": "markdown",
   "id": "9510be83",
   "metadata": {},
   "source": [
    "### 12."
   ]
  },
  {
   "cell_type": "markdown",
   "id": "942a07b5",
   "metadata": {},
   "source": [
    "According to the calculation above, the vol of SP500 is around 0.121405"
   ]
  },
  {
   "cell_type": "markdown",
   "id": "aac3c5e5",
   "metadata": {},
   "source": [
    "### 13."
   ]
  },
  {
   "cell_type": "markdown",
   "id": "19680eb7",
   "metadata": {},
   "source": [
    "According to formular Credit Spread = [1- Recovery Rate] x [Default Probability ] , probability of default is 0.5% / (1-50%) = 0.25%."
   ]
  },
  {
   "cell_type": "markdown",
   "id": "73ee1727",
   "metadata": {},
   "source": [
    "### 14."
   ]
  },
  {
   "cell_type": "markdown",
   "id": "dd7f421b",
   "metadata": {},
   "source": [
    "Delta of put of option would would increase and approaching 0 from -1 if underlying security price increases. \n",
    "\n",
    "Depend on the strategies, put option has various purpose in a portfolio. For example in a protective put strategy, put option provide hedging effect and protects portfolio from downside risk; in a bear spread strategy, put option helps increase profit and minimize loss in a bearish market. Bear spread strategy is a good approach to reduce premium cost while sticking to the purpose as it has two legs, one leg long a put option iwth higher strike price, it plays the role of hedging/protecting; the other leg is short another put with same maturity date but lower strike price, it helps earn premium and reduce hedging cost. "
   ]
  },
  {
   "cell_type": "markdown",
   "id": "d6dbfa2b",
   "metadata": {},
   "source": [
    "### 15."
   ]
  },
  {
   "cell_type": "markdown",
   "id": "fdb589de",
   "metadata": {},
   "source": [
    "This estimate doesn't make sense. Essentially it's a re-llocation of same amount of exposure from credit bond exposure to equity exposure. To estimate the impact on VaR, I would use parametric VaR method as a proxy. Given exposure is the same, usually equity volatility is much higher than that of credit bond exposure, I would expect totsal portfolio VaR would increase after switching. To validate the result, we can check volatility of risk factors concerned here, such as EQ index vol surface, credit regressor curves vol, credit spread vol, IR curve vol, etc. "
   ]
  },
  {
   "cell_type": "code",
   "execution_count": null,
   "id": "b1ec3459",
   "metadata": {},
   "outputs": [],
   "source": []
  }
 ],
 "metadata": {
  "kernelspec": {
   "display_name": "Python 3 (ipykernel)",
   "language": "python",
   "name": "python3"
  },
  "language_info": {
   "codemirror_mode": {
    "name": "ipython",
    "version": 3
   },
   "file_extension": ".py",
   "mimetype": "text/x-python",
   "name": "python",
   "nbconvert_exporter": "python",
   "pygments_lexer": "ipython3",
   "version": "3.11.5"
  }
 },
 "nbformat": 4,
 "nbformat_minor": 5
}
